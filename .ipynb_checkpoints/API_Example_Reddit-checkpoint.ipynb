{
 "cells": [
  {
   "cell_type": "markdown",
   "metadata": {
    "colab_type": "text",
    "id": "view-in-github"
   },
   "source": [
    "<a href=\"https://colab.research.google.com/github/tawfiqam/MI564/blob/main/API_Example_Reddit.ipynb\" target=\"_parent\"><img src=\"https://colab.research.google.com/assets/colab-badge.svg\" alt=\"Open In Colab\"/></a>"
   ]
  },
  {
   "cell_type": "markdown",
   "metadata": {
    "id": "dsdMlPpbKfqH"
   },
   "source": [
    "#APIs and API wrappers\n",
    "\n",
    "##API: Application Programming Interface presents a set of rules shaping a service*:\n",
    "\n",
    "1.   format of data to be read (most probably .json, but sometimes .csv) \n",
    "2.   commands used to access a computing service\n",
    "3.   what data this service can return in the response. ​\n",
    "\n",
    "\"The API acts as a layer between your application and external service. You do not need to know the internal structure and features of the service, you just send a certain simple command and receive data in a predetermined format\" [1]\n",
    "\n",
    "![090720_0532_WhatisanAPI1.png](data:image/png;base64,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)​\n",
    "\n",
    "[Image Source](https://www.guru99.com/what-is-api.html)\n",
    "\n",
    "\n",
    "A wrapper makes the use of the API's even simpler. In the first example, we will use a Reddit API to collect data about a subreddit called \"[Ex_Foster](https://www.reddit.com/r/Ex_Foster/).\"\n",
    "\n",
    "First, we will install a python wrapper for one of the Reddit API's created by Pushhift - [PSAW](https:pypi.org/project/psaw/). \n",
    "\n",
    "[1] [https://rapidapi.com/blog/how-to-use-an-api-with-python/](https://rapidapi.com/blog/how-to-use-an-api-with-python/)\n",
    "\n",
    "* computing service"
   ]
  },
  {
   "cell_type": "code",
   "execution_count": 1,
   "metadata": {
    "colab": {
     "base_uri": "https://localhost:8080/"
    },
    "id": "1nxYgGZcw-U9",
    "outputId": "41c51a8a-0053-4225-ec39-6a70ba0dc5c3"
   },
   "outputs": [
    {
     "name": "stdout",
     "output_type": "stream",
     "text": [
      "Collecting psaw\n",
      "  Downloading https://files.pythonhosted.org/packages/01/fe/e2f43241ff7545588d07bb93dd353e4333ebc02c31d7e0dc36a8a9d93214/psaw-0.1.0-py3-none-any.whl\n",
      "Requirement already satisfied: requests in /usr/local/lib/python3.6/dist-packages (from psaw) (2.23.0)\n",
      "Requirement already satisfied: Click in /usr/local/lib/python3.6/dist-packages (from psaw) (7.1.2)\n",
      "Requirement already satisfied: idna<3,>=2.5 in /usr/local/lib/python3.6/dist-packages (from requests->psaw) (2.10)\n",
      "Requirement already satisfied: certifi>=2017.4.17 in /usr/local/lib/python3.6/dist-packages (from requests->psaw) (2020.12.5)\n",
      "Requirement already satisfied: urllib3!=1.25.0,!=1.25.1,<1.26,>=1.21.1 in /usr/local/lib/python3.6/dist-packages (from requests->psaw) (1.24.3)\n",
      "Requirement already satisfied: chardet<4,>=3.0.2 in /usr/local/lib/python3.6/dist-packages (from requests->psaw) (3.0.4)\n",
      "Installing collected packages: psaw\n",
      "Successfully installed psaw-0.1.0\n"
     ]
    }
   ],
   "source": [
    "#first, let's install the wrapper PSAW\n",
    "#using !, we can introduce commands that allow us to install packages etc.\n",
    "!pip install psaw"
   ]
  },
  {
   "cell_type": "code",
   "execution_count": 2,
   "metadata": {
    "id": "2_Er1QD7x2MB"
   },
   "outputs": [],
   "source": [
    "import pandas as pd\n",
    "#we will need datetime in order to specify the timeline we need to collect the data\n",
    "import datetime as dt\n",
    "\n",
    "#now we import the wrapper in order to use the API\n",
    "from psaw import PushshiftAPI\n",
    "\n",
    "api = PushshiftAPI()"
   ]
  },
  {
   "cell_type": "code",
   "execution_count": 3,
   "metadata": {
    "colab": {
     "base_uri": "https://localhost:8080/"
    },
    "id": "qbyc3i2bx7CA",
    "outputId": "231c56e7-7732-47e0-b178-f80527674973"
   },
   "outputs": [
    {
     "name": "stdout",
     "output_type": "stream",
     "text": [
      "Mounted at /content/gdrive\n"
     ]
    }
   ],
   "source": [
    "#mount the google drive\n",
    "from google.colab import drive\n",
    "drive.mount('/content/gdrive')"
   ]
  },
  {
   "cell_type": "code",
   "execution_count": 4,
   "metadata": {
    "id": "Fk-4B9_jx9dt"
   },
   "outputs": [],
   "source": [
    "#this function will allow us to find the last day of each month\n",
    "#for example, there are 31 days in January, but 28 this February\n",
    "def last_day_of_month(any_day):\n",
    "    # this will never fail\n",
    "    # get close to the end of the month for any day, and add 4 days 'over'\n",
    "    next_month = any_day.replace(day=28) + datetime.timedelta(days=4)\n",
    "    # subtract the number of remaining 'overage' days to get last day of current month, or said programattically said, the previous day of the first of next month\n",
    "    return next_month - datetime.timedelta(days=next_month.day)"
   ]
  },
  {
   "cell_type": "code",
   "execution_count": null,
   "metadata": {
    "id": "C7hiL_0Dycxj"
   },
   "outputs": [],
   "source": [
    "#let's read the comments between 2019 and 2021\n",
    "#including all the months between Janury and December\n",
    "subreddit_name = input('Enter the name of the subreddit ')\n",
    "start_year = int(input('Enter the start year '))\n",
    "end_year= int(input('Enter the end year '))\n",
    "start_month = int(input('Enter the first month '))\n",
    "end_month = int(input('Enter the last month '))"
   ]
  },
  {
   "cell_type": "code",
   "execution_count": null,
   "metadata": {
    "colab": {
     "base_uri": "https://localhost:8080/"
    },
    "id": "j2IvvxUJyjGi",
    "outputId": "d4ff26fc-28b5-4055-9dae-4a2095b2c8b7"
   },
   "outputs": [
    {
     "name": "stdout",
     "output_type": "stream",
     "text": [
      "starting with the month 1\n",
      "for subreddit...Ex_Foster\n",
      "setting start epoch...\n",
      "setting end epoch...\n",
      "the last day of the month is...\n",
      "31\n",
      "setting up the generator...\n",
      "setting up the dataframe...\n",
      "The number of comments for year 2018 and month 1 is 0\n",
      "starting with the month 2\n",
      "for subreddit...Ex_Foster\n",
      "setting start epoch...\n",
      "setting end epoch...\n",
      "the last day of the month is...\n",
      "28\n",
      "setting up the generator...\n",
      "setting up the dataframe...\n",
      "The number of comments for year 2018 and month 2 is 0\n",
      "starting with the month 3\n",
      "for subreddit...Ex_Foster\n",
      "setting start epoch...\n",
      "setting end epoch...\n",
      "the last day of the month is...\n",
      "31\n",
      "setting up the generator...\n",
      "setting up the dataframe...\n",
      "The number of comments for year 2018 and month 3 is 0\n",
      "starting with the month 4\n",
      "for subreddit...Ex_Foster\n",
      "setting start epoch...\n",
      "setting end epoch...\n",
      "the last day of the month is...\n",
      "30\n",
      "setting up the generator...\n",
      "setting up the dataframe...\n",
      "The number of comments for year 2018 and month 4 is 0\n",
      "starting with the month 5\n",
      "for subreddit...Ex_Foster\n",
      "setting start epoch...\n",
      "setting end epoch...\n",
      "the last day of the month is...\n",
      "31\n",
      "setting up the generator...\n",
      "setting up the dataframe...\n",
      "The number of comments for year 2018 and month 5 is 0\n",
      "starting with the month 6\n",
      "for subreddit...Ex_Foster\n",
      "setting start epoch...\n",
      "setting end epoch...\n",
      "the last day of the month is...\n",
      "30\n",
      "setting up the generator...\n",
      "setting up the dataframe...\n",
      "The number of comments for year 2018 and month 6 is 0\n",
      "starting with the month 7\n",
      "for subreddit...Ex_Foster\n",
      "setting start epoch...\n",
      "setting end epoch...\n",
      "the last day of the month is...\n",
      "31\n",
      "setting up the generator...\n",
      "setting up the dataframe...\n",
      "The number of comments for year 2018 and month 7 is 0\n",
      "starting with the month 8\n",
      "for subreddit...Ex_Foster\n",
      "setting start epoch...\n",
      "setting end epoch...\n",
      "the last day of the month is...\n",
      "31\n",
      "setting up the generator...\n",
      "setting up the dataframe...\n",
      "The number of comments for year 2018 and month 8 is 0\n",
      "starting with the month 9\n",
      "for subreddit...Ex_Foster\n",
      "setting start epoch...\n",
      "setting end epoch...\n",
      "the last day of the month is...\n",
      "30\n",
      "setting up the generator...\n",
      "setting up the dataframe...\n",
      "The number of comments for year 2018 and month 9 is 0\n",
      "starting with the month 10\n",
      "for subreddit...Ex_Foster\n",
      "setting start epoch...\n",
      "setting end epoch...\n",
      "the last day of the month is...\n",
      "31\n",
      "setting up the generator...\n",
      "setting up the dataframe...\n",
      "The number of comments for year 2018 and month 10 is 0\n",
      "starting with the month 11\n",
      "for subreddit...Ex_Foster\n",
      "setting start epoch...\n",
      "setting end epoch...\n",
      "the last day of the month is...\n",
      "30\n",
      "setting up the generator...\n",
      "setting up the dataframe...\n",
      "The number of comments for year 2018 and month 11 is 0\n",
      "starting with the month 12\n",
      "for subreddit...Ex_Foster\n",
      "setting start epoch...\n",
      "setting end epoch...\n",
      "the last day of the month is...\n",
      "31\n",
      "setting up the generator...\n",
      "setting up the dataframe...\n",
      "The number of comments for year 2018 and month 12 is 0\n",
      "starting with the month 1\n",
      "for subreddit...Ex_Foster\n",
      "setting start epoch...\n",
      "setting end epoch...\n",
      "the last day of the month is...\n",
      "31\n",
      "setting up the generator...\n",
      "setting up the dataframe...\n",
      "The number of comments for year 2019 and month 1 is 0\n",
      "starting with the month 2\n",
      "for subreddit...Ex_Foster\n",
      "setting start epoch...\n",
      "setting end epoch...\n",
      "the last day of the month is...\n",
      "28\n",
      "setting up the generator...\n",
      "setting up the dataframe...\n",
      "The number of comments for year 2019 and month 2 is 0\n",
      "starting with the month 3\n",
      "for subreddit...Ex_Foster\n",
      "setting start epoch...\n",
      "setting end epoch...\n",
      "the last day of the month is...\n",
      "31\n",
      "setting up the generator...\n",
      "setting up the dataframe...\n",
      "The number of comments for year 2019 and month 3 is 69\n",
      "starting with the month 4\n",
      "for subreddit...Ex_Foster\n",
      "setting start epoch...\n",
      "setting end epoch...\n",
      "the last day of the month is...\n",
      "30\n",
      "setting up the generator...\n",
      "setting up the dataframe...\n",
      "The number of comments for year 2019 and month 4 is 233\n",
      "starting with the month 5\n",
      "for subreddit...Ex_Foster\n",
      "setting start epoch...\n",
      "setting end epoch...\n",
      "the last day of the month is...\n",
      "31\n",
      "setting up the generator...\n",
      "setting up the dataframe...\n",
      "The number of comments for year 2019 and month 5 is 119\n",
      "starting with the month 6\n",
      "for subreddit...Ex_Foster\n",
      "setting start epoch...\n",
      "setting end epoch...\n",
      "the last day of the month is...\n",
      "30\n",
      "setting up the generator...\n",
      "setting up the dataframe...\n",
      "The number of comments for year 2019 and month 6 is 183\n",
      "starting with the month 7\n",
      "for subreddit...Ex_Foster\n",
      "setting start epoch...\n",
      "setting end epoch...\n",
      "the last day of the month is...\n",
      "31\n",
      "setting up the generator...\n",
      "setting up the dataframe...\n",
      "The number of comments for year 2019 and month 7 is 78\n",
      "starting with the month 8\n",
      "for subreddit...Ex_Foster\n",
      "setting start epoch...\n",
      "setting end epoch...\n",
      "the last day of the month is...\n",
      "31\n",
      "setting up the generator...\n",
      "setting up the dataframe...\n",
      "The number of comments for year 2019 and month 8 is 80\n",
      "starting with the month 9\n",
      "for subreddit...Ex_Foster\n",
      "setting start epoch...\n",
      "setting end epoch...\n",
      "the last day of the month is...\n",
      "30\n",
      "setting up the generator...\n",
      "setting up the dataframe...\n",
      "The number of comments for year 2019 and month 9 is 229\n",
      "starting with the month 10\n",
      "for subreddit...Ex_Foster\n",
      "setting start epoch...\n",
      "setting end epoch...\n",
      "the last day of the month is...\n",
      "31\n",
      "setting up the generator...\n",
      "setting up the dataframe...\n",
      "The number of comments for year 2019 and month 10 is 351\n",
      "starting with the month 11\n",
      "for subreddit...Ex_Foster\n",
      "setting start epoch...\n",
      "setting end epoch...\n",
      "the last day of the month is...\n",
      "30\n",
      "setting up the generator...\n",
      "setting up the dataframe...\n",
      "The number of comments for year 2019 and month 11 is 388\n",
      "starting with the month 12\n",
      "for subreddit...Ex_Foster\n",
      "setting start epoch...\n",
      "setting end epoch...\n",
      "the last day of the month is...\n",
      "31\n",
      "setting up the generator...\n",
      "setting up the dataframe...\n",
      "The number of comments for year 2019 and month 12 is 326\n",
      "starting with the month 1\n",
      "for subreddit...Ex_Foster\n",
      "setting start epoch...\n",
      "setting end epoch...\n",
      "the last day of the month is...\n",
      "31\n",
      "setting up the generator...\n",
      "setting up the dataframe...\n",
      "The number of comments for year 2020 and month 1 is 134\n",
      "starting with the month 2\n",
      "for subreddit...Ex_Foster\n",
      "setting start epoch...\n",
      "setting end epoch...\n",
      "the last day of the month is...\n",
      "29\n",
      "setting up the generator...\n",
      "setting up the dataframe...\n",
      "The number of comments for year 2020 and month 2 is 210\n",
      "starting with the month 3\n",
      "for subreddit...Ex_Foster\n",
      "setting start epoch...\n",
      "setting end epoch...\n",
      "the last day of the month is...\n",
      "31\n",
      "setting up the generator...\n",
      "setting up the dataframe...\n",
      "The number of comments for year 2020 and month 3 is 275\n",
      "starting with the month 4\n",
      "for subreddit...Ex_Foster\n",
      "setting start epoch...\n",
      "setting end epoch...\n",
      "the last day of the month is...\n",
      "30\n",
      "setting up the generator...\n",
      "setting up the dataframe...\n",
      "The number of comments for year 2020 and month 4 is 279\n",
      "starting with the month 5\n",
      "for subreddit...Ex_Foster\n",
      "setting start epoch...\n",
      "setting end epoch...\n",
      "the last day of the month is...\n",
      "31\n",
      "setting up the generator...\n",
      "setting up the dataframe...\n",
      "The number of comments for year 2020 and month 5 is 501\n",
      "starting with the month 6\n",
      "for subreddit...Ex_Foster\n",
      "setting start epoch...\n",
      "setting end epoch...\n",
      "the last day of the month is...\n",
      "30\n",
      "setting up the generator...\n",
      "setting up the dataframe...\n",
      "The number of comments for year 2020 and month 6 is 185\n",
      "starting with the month 7\n",
      "for subreddit...Ex_Foster\n",
      "setting start epoch...\n",
      "setting end epoch...\n",
      "the last day of the month is...\n",
      "31\n",
      "setting up the generator...\n",
      "setting up the dataframe...\n",
      "The number of comments for year 2020 and month 7 is 353\n",
      "starting with the month 8\n",
      "for subreddit...Ex_Foster\n",
      "setting start epoch...\n",
      "setting end epoch...\n",
      "the last day of the month is...\n",
      "31\n",
      "setting up the generator...\n",
      "setting up the dataframe...\n",
      "The number of comments for year 2020 and month 8 is 217\n",
      "starting with the month 9\n",
      "for subreddit...Ex_Foster\n",
      "setting start epoch...\n",
      "setting end epoch...\n",
      "the last day of the month is...\n",
      "30\n",
      "setting up the generator...\n",
      "setting up the dataframe...\n",
      "The number of comments for year 2020 and month 9 is 217\n",
      "starting with the month 10\n",
      "for subreddit...Ex_Foster\n",
      "setting start epoch...\n",
      "setting end epoch...\n",
      "the last day of the month is...\n",
      "31\n",
      "setting up the generator...\n",
      "setting up the dataframe...\n",
      "The number of comments for year 2020 and month 10 is 222\n",
      "starting with the month 11\n",
      "for subreddit...Ex_Foster\n",
      "setting start epoch...\n",
      "setting end epoch...\n",
      "the last day of the month is...\n",
      "30\n",
      "setting up the generator...\n",
      "setting up the dataframe...\n",
      "The number of comments for year 2020 and month 11 is 100\n",
      "starting with the month 12\n",
      "for subreddit...Ex_Foster\n",
      "setting start epoch...\n",
      "setting end epoch...\n",
      "the last day of the month is...\n",
      "31\n",
      "setting up the generator...\n",
      "setting up the dataframe...\n",
      "The number of comments for year 2020 and month 12 is 136\n",
      "starting with the month 1\n",
      "for subreddit...Ex_Foster\n",
      "setting start epoch...\n",
      "setting end epoch...\n",
      "the last day of the month is...\n",
      "31\n",
      "setting up the generator...\n",
      "setting up the dataframe...\n",
      "The number of comments for year 2021 and month 1 is 78\n",
      "starting with the month 2\n",
      "for subreddit...Ex_Foster\n",
      "setting start epoch...\n",
      "setting end epoch...\n",
      "the last day of the month is...\n",
      "28\n",
      "setting up the generator...\n",
      "setting up the dataframe...\n",
      "The number of comments for year 2021 and month 2 is 27\n",
      "starting with the month 3\n",
      "for subreddit...Ex_Foster\n",
      "setting start epoch...\n",
      "setting end epoch...\n",
      "the last day of the month is...\n",
      "31\n",
      "setting up the generator...\n",
      "setting up the dataframe...\n",
      "The number of comments for year 2021 and month 3 is 0\n",
      "starting with the month 4\n",
      "for subreddit...Ex_Foster\n",
      "setting start epoch...\n",
      "setting end epoch...\n",
      "the last day of the month is...\n",
      "30\n",
      "setting up the generator...\n",
      "setting up the dataframe...\n",
      "The number of comments for year 2021 and month 4 is 0\n",
      "starting with the month 5\n",
      "for subreddit...Ex_Foster\n",
      "setting start epoch...\n",
      "setting end epoch...\n",
      "the last day of the month is...\n",
      "31\n",
      "setting up the generator...\n",
      "setting up the dataframe...\n",
      "The number of comments for year 2021 and month 5 is 0\n",
      "starting with the month 6\n",
      "for subreddit...Ex_Foster\n",
      "setting start epoch...\n",
      "setting end epoch...\n",
      "the last day of the month is...\n",
      "30\n",
      "setting up the generator...\n",
      "setting up the dataframe...\n",
      "The number of comments for year 2021 and month 6 is 0\n",
      "starting with the month 7\n",
      "for subreddit...Ex_Foster\n",
      "setting start epoch...\n",
      "setting end epoch...\n",
      "the last day of the month is...\n",
      "31\n",
      "setting up the generator...\n",
      "setting up the dataframe...\n",
      "The number of comments for year 2021 and month 7 is 0\n",
      "starting with the month 8\n",
      "for subreddit...Ex_Foster\n",
      "setting start epoch...\n",
      "setting end epoch...\n",
      "the last day of the month is...\n",
      "31\n",
      "setting up the generator...\n",
      "setting up the dataframe...\n",
      "The number of comments for year 2021 and month 8 is 0\n",
      "starting with the month 9\n",
      "for subreddit...Ex_Foster\n",
      "setting start epoch...\n",
      "setting end epoch...\n",
      "the last day of the month is...\n",
      "30\n",
      "setting up the generator...\n",
      "setting up the dataframe...\n",
      "The number of comments for year 2021 and month 9 is 0\n",
      "starting with the month 10\n",
      "for subreddit...Ex_Foster\n",
      "setting start epoch...\n",
      "setting end epoch...\n",
      "the last day of the month is...\n",
      "31\n",
      "setting up the generator...\n",
      "setting up the dataframe...\n",
      "The number of comments for year 2021 and month 10 is 0\n",
      "starting with the month 11\n",
      "for subreddit...Ex_Foster\n",
      "setting start epoch...\n",
      "setting end epoch...\n",
      "the last day of the month is...\n",
      "30\n",
      "setting up the generator...\n",
      "setting up the dataframe...\n",
      "The number of comments for year 2021 and month 11 is 0\n",
      "starting with the month 12\n",
      "for subreddit...Ex_Foster\n",
      "setting start epoch...\n",
      "setting end epoch...\n",
      "the last day of the month is...\n",
      "31\n",
      "setting up the generator...\n",
      "setting up the dataframe...\n",
      "The number of comments for year 2021 and month 12 is 0\n"
     ]
    }
   ],
   "source": [
    "import datetime\n",
    "subredditlist = [subreddit_name]\n",
    "for reddit in subredditlist:\n",
    "    for y in range(int(start_year),int(end_year)+1):\n",
    "      for i in range(int(start_month),int(end_month)+1):\n",
    "          file_name= str(reddit)+\"_\"+str(y)+\"_\"+str(i)+\".json\"\n",
    "          print(\"starting with the month \"+str(i))\n",
    "          print(\"for subreddit...\"+str(reddit))\n",
    "          print(\"setting start epoch...\")\n",
    "          start_epoch=int(dt.datetime(y, i, 1).timestamp())\n",
    "          print(\"setting end epoch...\")\n",
    "          last_day = last_day_of_month(datetime.date(y, i, 1))\n",
    "          print(\"the last day of the month is...\")\n",
    "          print(last_day.day)\n",
    "          last_day = int(last_day.day)\n",
    "          end_epoch = int(dt.datetime(y,i,last_day).timestamp())\n",
    "          print(\"setting up the generator...\")\n",
    "          gen = api.search_comments(after=start_epoch, before=end_epoch,subreddit=reddit)\n",
    "          print(\"setting up the dataframe...\")\n",
    "          df = pd.DataFrame([obj.d_ for obj in gen])\n",
    "          print(\"The number of comments for year \"+ str(y)+\" and month \"+str(i)+\" is \"+str(len(df.index)))\n",
    "          df.to_json(file_name)"
   ]
  },
  {
   "cell_type": "markdown",
   "metadata": {
    "id": "It_hUkQy4nxA"
   },
   "source": [
    "Now, suppose I wanted to only collect data between two dates,\n",
    "say January 1st, 2021 and January 2nd, 2021...here's how I would do this"
   ]
  },
  {
   "cell_type": "code",
   "execution_count": 7,
   "metadata": {
    "colab": {
     "base_uri": "https://localhost:8080/"
    },
    "id": "2serU9cY4mYB",
    "outputId": "a53e905d-724a-4a45-8b3e-3f3d6a8f4eed"
   },
   "outputs": [
    {
     "name": "stdout",
     "output_type": "stream",
     "text": [
      "setting start epoch...\n",
      "1609459200\n",
      "setting end epoch...\n",
      "1609545600\n",
      "setting up the generator...\n",
      "setting up the dataframe...\n"
     ]
    }
   ],
   "source": [
    "#this is the filename I will use to stor the dataset\n",
    "file_name= \"Ex_Foster_Early_Jan.json\"\n",
    "#creating the start epoch, the first date to start the collection process\n",
    "#we want to start with January 1st 2020\n",
    "print(\"setting start epoch...\")\n",
    "start_epoch=int(dt.datetime(2021,1,1).timestamp())\n",
    "print(start_epoch)\n",
    "#now setting the end epoch to be January 5th\n",
    "print(\"setting end epoch...\")\n",
    "end_epoch = int(dt.datetime(2021,1,2).timestamp())\n",
    "print(end_epoch)\n",
    "print(\"setting up the generator...\")\n",
    "#use the API wrapper to generate the results\n",
    "gen = api.search_comments(after=start_epoch, before=end_epoch,subreddit='wallstreetbets')\n",
    "print(\"setting up the dataframe...\")\n",
    "#now store the results in a data frame\n",
    "df = pd.DataFrame([obj.d_ for obj in gen])\n",
    "#finally, store the dataframe as json file\n",
    "#use the filename I created earlier\n",
    "df.to_json(file_name)"
   ]
  },
  {
   "cell_type": "markdown",
   "metadata": {
    "id": "ZVekDEol7J1L"
   },
   "source": [
    "We could be even more granular than that...suppose we wanted to find the data between not only two dates, but specific times. Shall we say a specific time on day 1 and another specific time on day 2. \n",
    "\n",
    "The [datetime python function](https://docs.python.org/3/library/datetime.html) comes to the rescue again! \n",
    "\n",
    "Below is a example setting the date and time to January 5th, 2021 at 6 pm (GMT). Note that the output is then provided in [unix epochs](https://en.wikipedia.org/wiki/Unix_time). This is a [unix epoch converter](https://www.unixtimestamp.com/index.php) if you want to check your work."
   ]
  },
  {
   "cell_type": "code",
   "execution_count": 10,
   "metadata": {
    "colab": {
     "base_uri": "https://localhost:8080/"
    },
    "id": "eYwjPBsX7IpN",
    "outputId": "916a9383-099d-4181-fe40-61266690514d"
   },
   "outputs": [
    {
     "name": "stdout",
     "output_type": "stream",
     "text": [
      "2021-01-05 18:00:00\n",
      "1609869600\n"
     ]
    }
   ],
   "source": [
    "time = dt.datetime(2021,1,5,18,0)\n",
    "#let's see what the time looks like\n",
    "print(time)\n",
    "#now as a unix epoch\n",
    "time = int(dt.datetime(2021,1,5,18,0).timestamp())\n",
    "print(time)"
   ]
  },
  {
   "cell_type": "code",
   "execution_count": null,
   "metadata": {
    "colab": {
     "base_uri": "https://localhost:8080/"
    },
    "id": "ZXipx2Z75q2P",
    "outputId": "cc5ed125-a7fc-467a-8014-9afd99fa23c1"
   },
   "outputs": [
    {
     "name": "stdout",
     "output_type": "stream",
     "text": [
      "/content\n"
     ]
    }
   ],
   "source": [
    "#now I want to get the folder name without having to write the complete address of the current working directory\n",
    "import os\n",
    "#get current working directory (CWD)\n",
    "cwd = os.getcwd()\n",
    "print(cwd)"
   ]
  },
  {
   "cell_type": "code",
   "execution_count": null,
   "metadata": {
    "id": "tdJUw7AX5nk5"
   },
   "outputs": [],
   "source": [
    "# The glob module finds all the pathnames matching a specified pattern \n",
    "# https://docs.python.org/3/library/glob.html\n",
    "# We want to find all the files that start with Ex_Foster AND end with .json\n",
    "import glob\n",
    "#create an empty list to add things to it\n",
    "contents = []\n",
    "#json_dir_name becomes the current working directory\n",
    "json_dir_name = cwd\n",
    "# Again, we want to find all the files that start with [Ex_Foster AND end with .json]\n",
    "json_pattern = os.path.join(json_dir_name, 'Ex_Foster*.json')\n",
    "file_list = glob.glob(json_pattern)\n",
    "for file in file_list:\n",
    "    contents.append(file)"
   ]
  },
  {
   "cell_type": "code",
   "execution_count": null,
   "metadata": {
    "colab": {
     "base_uri": "https://localhost:8080/"
    },
    "id": "cHrRLRVw21Cn",
    "outputId": "526a5ecc-d0a5-44f5-9921-0cbe5c541488"
   },
   "outputs": [
    {
     "data": {
      "text/plain": [
       "['/content/Ex_Foster_2020_9.json',\n",
       " '/content/Ex_Foster_2019_10.json',\n",
       " '/content/Ex_Foster_2020_10.json',\n",
       " '/content/Ex_Foster_2020_11.json',\n",
       " '/content/Ex_Foster_2018_4.json',\n",
       " '/content/Ex_Foster_2021_6.json',\n",
       " '/content/Ex_Foster_2019_2.json',\n",
       " '/content/Ex_Foster_2018_1.json',\n",
       " '/content/Ex_Foster_2019_8.json',\n",
       " '/content/Ex_Foster_2019_11.json',\n",
       " '/content/Ex_Foster_2021_3.json',\n",
       " '/content/Ex_Foster_2018_5.json',\n",
       " '/content/Ex_Foster_2021_5.json',\n",
       " '/content/Ex_Foster_2021_2.json',\n",
       " '/content/Ex_Foster_2020_5.json',\n",
       " '/content/Ex_Foster_2019_9.json',\n",
       " '/content/Ex_Foster_2019_12.json',\n",
       " '/content/Ex_Foster_2020_3.json',\n",
       " '/content/Ex_Foster_2020_6.json',\n",
       " '/content/Ex_Foster_2018_8.json',\n",
       " '/content/Ex_Foster_2018_2.json',\n",
       " '/content/Ex_Foster_2021_10.json',\n",
       " '/content/Ex_Foster_2018_11.json',\n",
       " '/content/Ex_Foster_2020_12.json',\n",
       " '/content/Ex_Foster_2021_8.json',\n",
       " '/content/Ex_Foster_2020_8.json',\n",
       " '/content/Ex_Foster_2018_3.json',\n",
       " '/content/Ex_Foster_2021_1.json',\n",
       " '/content/Ex_Foster_2020_1.json',\n",
       " '/content/Ex_Foster_2020_2.json',\n",
       " '/content/Ex_Foster_2019_1.json',\n",
       " '/content/Ex_Foster_2021_4.json',\n",
       " '/content/Ex_Foster_2021_11.json',\n",
       " '/content/Ex_Foster_2019_7.json',\n",
       " '/content/Ex_Foster_2020_4.json',\n",
       " '/content/Ex_Foster_2018_10.json',\n",
       " '/content/Ex_Foster_2018_6.json',\n",
       " '/content/Ex_Foster_2021_7.json',\n",
       " '/content/Ex_Foster_2020_7.json',\n",
       " '/content/Ex_Foster_2018_9.json',\n",
       " '/content/Ex_Foster_2019_3.json',\n",
       " '/content/Ex_Foster_2018_12.json',\n",
       " '/content/Ex_Foster_2021_9.json',\n",
       " '/content/Ex_Foster_2018_7.json',\n",
       " '/content/Ex_Foster_2019_6.json',\n",
       " '/content/Ex_Foster_2019_5.json',\n",
       " '/content/Ex_Foster_2021_12.json',\n",
       " '/content/Ex_Foster_2019_4.json']"
      ]
     },
     "execution_count": 9,
     "metadata": {
      "tags": []
     },
     "output_type": "execute_result"
    }
   ],
   "source": [
    "#let's take a look at contents\n",
    "contents"
   ]
  },
  {
   "cell_type": "code",
   "execution_count": null,
   "metadata": {
    "colab": {
     "base_uri": "https://localhost:8080/"
    },
    "id": "35H5x8OK5UXs",
    "outputId": "5b34a421-6289-4b90-fbdd-70e848d84feb"
   },
   "outputs": [
    {
     "name": "stdout",
     "output_type": "stream",
     "text": [
      "reading...\n",
      "/content/Ex_Foster_2020_9.json\n",
      "reading...\n",
      "/content/Ex_Foster_2019_10.json\n",
      "reading...\n",
      "/content/Ex_Foster_2020_10.json\n",
      "reading...\n",
      "/content/Ex_Foster_2020_11.json\n",
      "reading...\n",
      "/content/Ex_Foster_2018_4.json\n",
      "reading...\n",
      "/content/Ex_Foster_2021_6.json\n",
      "reading...\n",
      "/content/Ex_Foster_2019_2.json\n",
      "reading...\n",
      "/content/Ex_Foster_2018_1.json\n",
      "reading...\n",
      "/content/Ex_Foster_2019_8.json\n",
      "reading...\n",
      "/content/Ex_Foster_2019_11.json\n",
      "reading...\n",
      "/content/Ex_Foster_2021_3.json\n",
      "reading...\n",
      "/content/Ex_Foster_2018_5.json\n",
      "reading...\n",
      "/content/Ex_Foster_2021_5.json\n",
      "reading...\n",
      "/content/Ex_Foster_2021_2.json\n",
      "reading...\n",
      "/content/Ex_Foster_2020_5.json\n",
      "reading...\n",
      "/content/Ex_Foster_2019_9.json\n",
      "reading...\n",
      "/content/Ex_Foster_2019_12.json\n",
      "reading...\n",
      "/content/Ex_Foster_2020_3.json\n",
      "reading...\n",
      "/content/Ex_Foster_2020_6.json\n",
      "reading...\n",
      "/content/Ex_Foster_2018_8.json\n",
      "reading...\n",
      "/content/Ex_Foster_2018_2.json\n",
      "reading...\n",
      "/content/Ex_Foster_2021_10.json\n",
      "reading...\n",
      "/content/Ex_Foster_2018_11.json\n",
      "reading...\n",
      "/content/Ex_Foster_2020_12.json\n",
      "reading...\n",
      "/content/Ex_Foster_2021_8.json\n",
      "reading...\n",
      "/content/Ex_Foster_2020_8.json\n",
      "reading...\n",
      "/content/Ex_Foster_2018_3.json\n",
      "reading...\n",
      "/content/Ex_Foster_2021_1.json\n",
      "reading...\n",
      "/content/Ex_Foster_2020_1.json\n",
      "reading...\n",
      "/content/Ex_Foster_2020_2.json\n",
      "reading...\n",
      "/content/Ex_Foster_2019_1.json\n",
      "reading...\n",
      "/content/Ex_Foster_2021_4.json\n",
      "reading...\n",
      "/content/Ex_Foster_2021_11.json\n",
      "reading...\n",
      "/content/Ex_Foster_2019_7.json\n",
      "reading...\n",
      "/content/Ex_Foster_2020_4.json\n",
      "reading...\n",
      "/content/Ex_Foster_2018_10.json\n",
      "reading...\n",
      "/content/Ex_Foster_2018_6.json\n",
      "reading...\n",
      "/content/Ex_Foster_2021_7.json\n",
      "reading...\n",
      "/content/Ex_Foster_2020_7.json\n",
      "reading...\n",
      "/content/Ex_Foster_2018_9.json\n",
      "reading...\n",
      "/content/Ex_Foster_2019_3.json\n",
      "reading...\n",
      "/content/Ex_Foster_2018_12.json\n",
      "reading...\n",
      "/content/Ex_Foster_2021_9.json\n",
      "reading...\n",
      "/content/Ex_Foster_2018_7.json\n",
      "reading...\n",
      "/content/Ex_Foster_2019_6.json\n",
      "reading...\n",
      "/content/Ex_Foster_2019_5.json\n",
      "reading...\n",
      "/content/Ex_Foster_2021_12.json\n",
      "reading...\n",
      "/content/Ex_Foster_2019_4.json\n"
     ]
    }
   ],
   "source": [
    "#import json\n",
    "#collecting all the json files into one pandas dataframe\n",
    "df = pd.DataFrame()\n",
    "for file in contents:\n",
    "    print('reading...')\n",
    "    print(file)\n",
    "    tmp_frame = pd.read_json(file)\n",
    "    #appending the new pandas dataframe to the earlier ones\n",
    "    #remember how we appended the pandas DataFrame to itself \n",
    "    #in https://github.com/tawfiqam/MI564/blob/main/Pandas_Introduction.ipynb\n",
    "    df = df.append(tmp_frame, ignore_index=True)"
   ]
  },
  {
   "cell_type": "code",
   "execution_count": null,
   "metadata": {
    "colab": {
     "base_uri": "https://localhost:8080/"
    },
    "id": "AtPR6unG5ky_",
    "outputId": "34b8aaaa-4659-4be6-ad45-c209915cf611"
   },
   "outputs": [
    {
     "data": {
      "text/plain": [
       "4990"
      ]
     },
     "execution_count": 11,
     "metadata": {
      "tags": []
     },
     "output_type": "execute_result"
    }
   ],
   "source": [
    "len(df)"
   ]
  },
  {
   "cell_type": "code",
   "execution_count": null,
   "metadata": {
    "colab": {
     "base_uri": "https://localhost:8080/"
    },
    "id": "sOu2tCas3UA7",
    "outputId": "dcd34609-296b-4543-a09c-17223c14e9fc"
   },
   "outputs": [
    {
     "data": {
      "text/plain": [
       "(4990, 41)"
      ]
     },
     "execution_count": 12,
     "metadata": {
      "tags": []
     },
     "output_type": "execute_result"
    }
   ],
   "source": [
    "#Now let's check the shape of the DataFrame\n",
    "df.shape"
   ]
  },
  {
   "cell_type": "code",
   "execution_count": null,
   "metadata": {
    "colab": {
     "base_uri": "https://localhost:8080/",
     "height": 521
    },
    "id": "MIFsWKoJ6BUL",
    "outputId": "011cd84b-3e1d-4282-f9d7-03eb2cdea186"
   },
   "outputs": [
    {
     "data": {
      "text/html": [
       "<div>\n",
       "<style scoped>\n",
       "    .dataframe tbody tr th:only-of-type {\n",
       "        vertical-align: middle;\n",
       "    }\n",
       "\n",
       "    .dataframe tbody tr th {\n",
       "        vertical-align: top;\n",
       "    }\n",
       "\n",
       "    .dataframe thead th {\n",
       "        text-align: right;\n",
       "    }\n",
       "</style>\n",
       "<table border=\"1\" class=\"dataframe\">\n",
       "  <thead>\n",
       "    <tr style=\"text-align: right;\">\n",
       "      <th></th>\n",
       "      <th>all_awardings</th>\n",
       "      <th>associated_award</th>\n",
       "      <th>author</th>\n",
       "      <th>author_flair_background_color</th>\n",
       "      <th>author_flair_css_class</th>\n",
       "      <th>author_flair_richtext</th>\n",
       "      <th>author_flair_template_id</th>\n",
       "      <th>author_flair_text</th>\n",
       "      <th>author_flair_text_color</th>\n",
       "      <th>author_flair_type</th>\n",
       "      <th>author_fullname</th>\n",
       "      <th>author_patreon_flair</th>\n",
       "      <th>author_premium</th>\n",
       "      <th>awarders</th>\n",
       "      <th>body</th>\n",
       "      <th>collapsed_because_crowd_control</th>\n",
       "      <th>comment_type</th>\n",
       "      <th>created_utc</th>\n",
       "      <th>gildings</th>\n",
       "      <th>id</th>\n",
       "      <th>is_submitter</th>\n",
       "      <th>link_id</th>\n",
       "      <th>locked</th>\n",
       "      <th>no_follow</th>\n",
       "      <th>parent_id</th>\n",
       "      <th>permalink</th>\n",
       "      <th>retrieved_on</th>\n",
       "      <th>score</th>\n",
       "      <th>send_replies</th>\n",
       "      <th>stickied</th>\n",
       "      <th>subreddit</th>\n",
       "      <th>subreddit_id</th>\n",
       "      <th>top_awarded_type</th>\n",
       "      <th>total_awards_received</th>\n",
       "      <th>treatment_tags</th>\n",
       "      <th>created</th>\n",
       "      <th>edited</th>\n",
       "      <th>distinguished</th>\n",
       "      <th>steward_reports</th>\n",
       "      <th>author_cakeday</th>\n",
       "      <th>updated_utc</th>\n",
       "    </tr>\n",
       "  </thead>\n",
       "  <tbody>\n",
       "    <tr>\n",
       "      <th>0</th>\n",
       "      <td>[]</td>\n",
       "      <td>NaN</td>\n",
       "      <td>L2F2020</td>\n",
       "      <td>None</td>\n",
       "      <td>NaN</td>\n",
       "      <td>[]</td>\n",
       "      <td>None</td>\n",
       "      <td>None</td>\n",
       "      <td>None</td>\n",
       "      <td>text</td>\n",
       "      <td>t2_89seva1u</td>\n",
       "      <td>0.0</td>\n",
       "      <td>0.0</td>\n",
       "      <td>[]</td>\n",
       "      <td>&amp;gt; I can list you tens of forms of punishmen...</td>\n",
       "      <td>NaN</td>\n",
       "      <td>NaN</td>\n",
       "      <td>1601332732</td>\n",
       "      <td>{}</td>\n",
       "      <td>g7045al</td>\n",
       "      <td>False</td>\n",
       "      <td>t3_j11x3y</td>\n",
       "      <td>False</td>\n",
       "      <td>True</td>\n",
       "      <td>t1_g6x1fn2</td>\n",
       "      <td>/r/Ex_Foster/comments/j11x3y/anyone_else_misse...</td>\n",
       "      <td>1601338324</td>\n",
       "      <td>1</td>\n",
       "      <td>True</td>\n",
       "      <td>False</td>\n",
       "      <td>Ex_Foster</td>\n",
       "      <td>t5_ykjzi</td>\n",
       "      <td>NaN</td>\n",
       "      <td>0.0</td>\n",
       "      <td>[]</td>\n",
       "      <td>1601332732</td>\n",
       "      <td>NaN</td>\n",
       "      <td>None</td>\n",
       "      <td>NaN</td>\n",
       "      <td>NaN</td>\n",
       "      <td>NaN</td>\n",
       "    </tr>\n",
       "    <tr>\n",
       "      <th>1</th>\n",
       "      <td>[]</td>\n",
       "      <td>NaN</td>\n",
       "      <td>iOnlyDo69</td>\n",
       "      <td>None</td>\n",
       "      <td>NaN</td>\n",
       "      <td>[]</td>\n",
       "      <td>None</td>\n",
       "      <td>None</td>\n",
       "      <td>None</td>\n",
       "      <td>text</td>\n",
       "      <td>t2_6lgrodm1</td>\n",
       "      <td>0.0</td>\n",
       "      <td>0.0</td>\n",
       "      <td>[]</td>\n",
       "      <td>I just read this and kinda freaked out because...</td>\n",
       "      <td>NaN</td>\n",
       "      <td>NaN</td>\n",
       "      <td>1601327106</td>\n",
       "      <td>{}</td>\n",
       "      <td>g6ztx7m</td>\n",
       "      <td>False</td>\n",
       "      <td>t3_j11x3y</td>\n",
       "      <td>False</td>\n",
       "      <td>True</td>\n",
       "      <td>t1_g6x1fn2</td>\n",
       "      <td>/r/Ex_Foster/comments/j11x3y/anyone_else_misse...</td>\n",
       "      <td>1601332891</td>\n",
       "      <td>1</td>\n",
       "      <td>True</td>\n",
       "      <td>False</td>\n",
       "      <td>Ex_Foster</td>\n",
       "      <td>t5_ykjzi</td>\n",
       "      <td>NaN</td>\n",
       "      <td>0.0</td>\n",
       "      <td>[]</td>\n",
       "      <td>1601327106</td>\n",
       "      <td>1.601327e+09</td>\n",
       "      <td>None</td>\n",
       "      <td>NaN</td>\n",
       "      <td>NaN</td>\n",
       "      <td>NaN</td>\n",
       "    </tr>\n",
       "    <tr>\n",
       "      <th>2</th>\n",
       "      <td>[]</td>\n",
       "      <td>NaN</td>\n",
       "      <td>threadshredder</td>\n",
       "      <td>None</td>\n",
       "      <td>NaN</td>\n",
       "      <td>[]</td>\n",
       "      <td>None</td>\n",
       "      <td>None</td>\n",
       "      <td>None</td>\n",
       "      <td>text</td>\n",
       "      <td>t2_134mw6</td>\n",
       "      <td>0.0</td>\n",
       "      <td>0.0</td>\n",
       "      <td>[]</td>\n",
       "      <td>I wouldn’t stress the weed too much but defini...</td>\n",
       "      <td>NaN</td>\n",
       "      <td>NaN</td>\n",
       "      <td>1601323682</td>\n",
       "      <td>{}</td>\n",
       "      <td>g6zn31t</td>\n",
       "      <td>False</td>\n",
       "      <td>t3_ippo9j</td>\n",
       "      <td>False</td>\n",
       "      <td>True</td>\n",
       "      <td>t1_g5dkptf</td>\n",
       "      <td>/r/Ex_Foster/comments/ippo9j/i_am_a_doster_par...</td>\n",
       "      <td>1601329051</td>\n",
       "      <td>1</td>\n",
       "      <td>True</td>\n",
       "      <td>False</td>\n",
       "      <td>Ex_Foster</td>\n",
       "      <td>t5_ykjzi</td>\n",
       "      <td>NaN</td>\n",
       "      <td>0.0</td>\n",
       "      <td>[]</td>\n",
       "      <td>1601323682</td>\n",
       "      <td>NaN</td>\n",
       "      <td>None</td>\n",
       "      <td>NaN</td>\n",
       "      <td>NaN</td>\n",
       "      <td>NaN</td>\n",
       "    </tr>\n",
       "    <tr>\n",
       "      <th>3</th>\n",
       "      <td>[]</td>\n",
       "      <td>NaN</td>\n",
       "      <td>RapidRadRunner</td>\n",
       "      <td>#dadada</td>\n",
       "      <td>NaN</td>\n",
       "      <td>[{'e': 'text', 't': ' foster parent'}]</td>\n",
       "      <td>eb0c664c-5f0b-11e9-8162-0e2688cdad6c</td>\n",
       "      <td>foster parent</td>\n",
       "      <td>dark</td>\n",
       "      <td>richtext</td>\n",
       "      <td>t2_2j2z8y</td>\n",
       "      <td>0.0</td>\n",
       "      <td>0.0</td>\n",
       "      <td>[]</td>\n",
       "      <td>I'm so sorry! This is absolutely heartbreaking!</td>\n",
       "      <td>NaN</td>\n",
       "      <td>NaN</td>\n",
       "      <td>1601296140</td>\n",
       "      <td>{}</td>\n",
       "      <td>g6y1wri</td>\n",
       "      <td>False</td>\n",
       "      <td>t3_j11x3y</td>\n",
       "      <td>False</td>\n",
       "      <td>True</td>\n",
       "      <td>t1_g6x1fn2</td>\n",
       "      <td>/r/Ex_Foster/comments/j11x3y/anyone_else_misse...</td>\n",
       "      <td>1601296151</td>\n",
       "      <td>1</td>\n",
       "      <td>True</td>\n",
       "      <td>False</td>\n",
       "      <td>Ex_Foster</td>\n",
       "      <td>t5_ykjzi</td>\n",
       "      <td>NaN</td>\n",
       "      <td>0.0</td>\n",
       "      <td>[]</td>\n",
       "      <td>1601296140</td>\n",
       "      <td>NaN</td>\n",
       "      <td>None</td>\n",
       "      <td>NaN</td>\n",
       "      <td>NaN</td>\n",
       "      <td>NaN</td>\n",
       "    </tr>\n",
       "    <tr>\n",
       "      <th>4</th>\n",
       "      <td>[]</td>\n",
       "      <td>NaN</td>\n",
       "      <td>SeaCow7829</td>\n",
       "      <td>None</td>\n",
       "      <td>NaN</td>\n",
       "      <td>[]</td>\n",
       "      <td>None</td>\n",
       "      <td>None</td>\n",
       "      <td>None</td>\n",
       "      <td>text</td>\n",
       "      <td>t2_84ukck26</td>\n",
       "      <td>0.0</td>\n",
       "      <td>0.0</td>\n",
       "      <td>[]</td>\n",
       "      <td>I just got to a new placement (from group home...</td>\n",
       "      <td>NaN</td>\n",
       "      <td>NaN</td>\n",
       "      <td>1601261811</td>\n",
       "      <td>{}</td>\n",
       "      <td>g6x1fn2</td>\n",
       "      <td>True</td>\n",
       "      <td>t3_j11x3y</td>\n",
       "      <td>False</td>\n",
       "      <td>True</td>\n",
       "      <td>t1_g6wsmny</td>\n",
       "      <td>/r/Ex_Foster/comments/j11x3y/anyone_else_misse...</td>\n",
       "      <td>1601264720</td>\n",
       "      <td>1</td>\n",
       "      <td>True</td>\n",
       "      <td>False</td>\n",
       "      <td>Ex_Foster</td>\n",
       "      <td>t5_ykjzi</td>\n",
       "      <td>NaN</td>\n",
       "      <td>0.0</td>\n",
       "      <td>[]</td>\n",
       "      <td>1601261811</td>\n",
       "      <td>NaN</td>\n",
       "      <td>None</td>\n",
       "      <td>NaN</td>\n",
       "      <td>NaN</td>\n",
       "      <td>NaN</td>\n",
       "    </tr>\n",
       "  </tbody>\n",
       "</table>\n",
       "</div>"
      ],
      "text/plain": [
       "  all_awardings  associated_award  ... author_cakeday updated_utc\n",
       "0            []               NaN  ...            NaN         NaN\n",
       "1            []               NaN  ...            NaN         NaN\n",
       "2            []               NaN  ...            NaN         NaN\n",
       "3            []               NaN  ...            NaN         NaN\n",
       "4            []               NaN  ...            NaN         NaN\n",
       "\n",
       "[5 rows x 41 columns]"
      ]
     },
     "execution_count": 13,
     "metadata": {
      "tags": []
     },
     "output_type": "execute_result"
    }
   ],
   "source": [
    "df.head()"
   ]
  },
  {
   "cell_type": "code",
   "execution_count": null,
   "metadata": {
    "id": "YcDn3AuCCAYh"
   },
   "outputs": [],
   "source": [
    "#cleaning the columns\n",
    "new_columns = ['author','created_utc','id','parent_id','link_id','body','score','permalink']"
   ]
  },
  {
   "cell_type": "code",
   "execution_count": null,
   "metadata": {
    "id": "iIDjHL7CCSu7"
   },
   "outputs": [],
   "source": [
    "df = df[new_columns]"
   ]
  },
  {
   "cell_type": "code",
   "execution_count": null,
   "metadata": {
    "colab": {
     "base_uri": "https://localhost:8080/",
     "height": 293
    },
    "id": "BIqntwuQCWX-",
    "outputId": "4f851177-cfb5-4d6a-dad1-aa3493f68e40"
   },
   "outputs": [
    {
     "data": {
      "text/html": [
       "<div>\n",
       "<style scoped>\n",
       "    .dataframe tbody tr th:only-of-type {\n",
       "        vertical-align: middle;\n",
       "    }\n",
       "\n",
       "    .dataframe tbody tr th {\n",
       "        vertical-align: top;\n",
       "    }\n",
       "\n",
       "    .dataframe thead th {\n",
       "        text-align: right;\n",
       "    }\n",
       "</style>\n",
       "<table border=\"1\" class=\"dataframe\">\n",
       "  <thead>\n",
       "    <tr style=\"text-align: right;\">\n",
       "      <th></th>\n",
       "      <th>author</th>\n",
       "      <th>created_utc</th>\n",
       "      <th>id</th>\n",
       "      <th>parent_id</th>\n",
       "      <th>link_id</th>\n",
       "      <th>body</th>\n",
       "      <th>score</th>\n",
       "      <th>permalink</th>\n",
       "    </tr>\n",
       "  </thead>\n",
       "  <tbody>\n",
       "    <tr>\n",
       "      <th>0</th>\n",
       "      <td>L2F2020</td>\n",
       "      <td>1601332732</td>\n",
       "      <td>g7045al</td>\n",
       "      <td>t1_g6x1fn2</td>\n",
       "      <td>t3_j11x3y</td>\n",
       "      <td>&amp;gt; I can list you tens of forms of punishmen...</td>\n",
       "      <td>1</td>\n",
       "      <td>/r/Ex_Foster/comments/j11x3y/anyone_else_misse...</td>\n",
       "    </tr>\n",
       "    <tr>\n",
       "      <th>1</th>\n",
       "      <td>iOnlyDo69</td>\n",
       "      <td>1601327106</td>\n",
       "      <td>g6ztx7m</td>\n",
       "      <td>t1_g6x1fn2</td>\n",
       "      <td>t3_j11x3y</td>\n",
       "      <td>I just read this and kinda freaked out because...</td>\n",
       "      <td>1</td>\n",
       "      <td>/r/Ex_Foster/comments/j11x3y/anyone_else_misse...</td>\n",
       "    </tr>\n",
       "    <tr>\n",
       "      <th>2</th>\n",
       "      <td>threadshredder</td>\n",
       "      <td>1601323682</td>\n",
       "      <td>g6zn31t</td>\n",
       "      <td>t1_g5dkptf</td>\n",
       "      <td>t3_ippo9j</td>\n",
       "      <td>I wouldn’t stress the weed too much but defini...</td>\n",
       "      <td>1</td>\n",
       "      <td>/r/Ex_Foster/comments/ippo9j/i_am_a_doster_par...</td>\n",
       "    </tr>\n",
       "    <tr>\n",
       "      <th>3</th>\n",
       "      <td>RapidRadRunner</td>\n",
       "      <td>1601296140</td>\n",
       "      <td>g6y1wri</td>\n",
       "      <td>t1_g6x1fn2</td>\n",
       "      <td>t3_j11x3y</td>\n",
       "      <td>I'm so sorry! This is absolutely heartbreaking!</td>\n",
       "      <td>1</td>\n",
       "      <td>/r/Ex_Foster/comments/j11x3y/anyone_else_misse...</td>\n",
       "    </tr>\n",
       "    <tr>\n",
       "      <th>4</th>\n",
       "      <td>SeaCow7829</td>\n",
       "      <td>1601261811</td>\n",
       "      <td>g6x1fn2</td>\n",
       "      <td>t1_g6wsmny</td>\n",
       "      <td>t3_j11x3y</td>\n",
       "      <td>I just got to a new placement (from group home...</td>\n",
       "      <td>1</td>\n",
       "      <td>/r/Ex_Foster/comments/j11x3y/anyone_else_misse...</td>\n",
       "    </tr>\n",
       "  </tbody>\n",
       "</table>\n",
       "</div>"
      ],
      "text/plain": [
       "           author  ...                                          permalink\n",
       "0         L2F2020  ...  /r/Ex_Foster/comments/j11x3y/anyone_else_misse...\n",
       "1       iOnlyDo69  ...  /r/Ex_Foster/comments/j11x3y/anyone_else_misse...\n",
       "2  threadshredder  ...  /r/Ex_Foster/comments/ippo9j/i_am_a_doster_par...\n",
       "3  RapidRadRunner  ...  /r/Ex_Foster/comments/j11x3y/anyone_else_misse...\n",
       "4      SeaCow7829  ...  /r/Ex_Foster/comments/j11x3y/anyone_else_misse...\n",
       "\n",
       "[5 rows x 8 columns]"
      ]
     },
     "execution_count": 16,
     "metadata": {
      "tags": []
     },
     "output_type": "execute_result"
    }
   ],
   "source": [
    "#let's check\n",
    "df.head()"
   ]
  },
  {
   "cell_type": "code",
   "execution_count": null,
   "metadata": {
    "colab": {
     "base_uri": "https://localhost:8080/"
    },
    "id": "DORXob7VutY9",
    "outputId": "716da775-6eb6-4336-f611-40316cf69903"
   },
   "outputs": [
    {
     "data": {
      "text/plain": [
       "(4990, 8)"
      ]
     },
     "execution_count": 17,
     "metadata": {
      "tags": []
     },
     "output_type": "execute_result"
    }
   ],
   "source": [
    "#shapre after cleaning the columns\n",
    "df.shape"
   ]
  },
  {
   "cell_type": "markdown",
   "metadata": {
    "id": "LYbSfhKqATV9"
   },
   "source": [
    "The created_utc column uses unix time. Unix time is a system for describing a point in time.  It is the number of seconds that have elapsed since the Unix epoch, minus leap seconds; the Unix epoch is 00:00:00 UTC on 1 January 1970 \n",
    "\n",
    "source: https://en.wikipedia.org/wiki/Unix_time\n",
    "\n",
    "No worries! Pandas has your back. The function to_datetime changes unix time \n",
    "to YYYY-MM-DD HH:MM:SS\n"
   ]
  },
  {
   "cell_type": "code",
   "execution_count": null,
   "metadata": {
    "id": "nIbHCMg656Xg"
   },
   "outputs": [],
   "source": [
    "df['created_utc'] = pd.to_datetime(df['created_utc'],unit='s')"
   ]
  },
  {
   "cell_type": "code",
   "execution_count": null,
   "metadata": {
    "colab": {
     "base_uri": "https://localhost:8080/",
     "height": 293
    },
    "id": "kRMzZIc45Oo1",
    "outputId": "a9f48d79-fe82-4bc5-9c4a-36dc04877620"
   },
   "outputs": [
    {
     "data": {
      "text/html": [
       "<div>\n",
       "<style scoped>\n",
       "    .dataframe tbody tr th:only-of-type {\n",
       "        vertical-align: middle;\n",
       "    }\n",
       "\n",
       "    .dataframe tbody tr th {\n",
       "        vertical-align: top;\n",
       "    }\n",
       "\n",
       "    .dataframe thead th {\n",
       "        text-align: right;\n",
       "    }\n",
       "</style>\n",
       "<table border=\"1\" class=\"dataframe\">\n",
       "  <thead>\n",
       "    <tr style=\"text-align: right;\">\n",
       "      <th></th>\n",
       "      <th>author</th>\n",
       "      <th>created_utc</th>\n",
       "      <th>id</th>\n",
       "      <th>parent_id</th>\n",
       "      <th>link_id</th>\n",
       "      <th>body</th>\n",
       "      <th>score</th>\n",
       "      <th>permalink</th>\n",
       "    </tr>\n",
       "  </thead>\n",
       "  <tbody>\n",
       "    <tr>\n",
       "      <th>0</th>\n",
       "      <td>L2F2020</td>\n",
       "      <td>2020-09-28 22:38:52</td>\n",
       "      <td>g7045al</td>\n",
       "      <td>t1_g6x1fn2</td>\n",
       "      <td>t3_j11x3y</td>\n",
       "      <td>&amp;gt; I can list you tens of forms of punishmen...</td>\n",
       "      <td>1</td>\n",
       "      <td>/r/Ex_Foster/comments/j11x3y/anyone_else_misse...</td>\n",
       "    </tr>\n",
       "    <tr>\n",
       "      <th>1</th>\n",
       "      <td>iOnlyDo69</td>\n",
       "      <td>2020-09-28 21:05:06</td>\n",
       "      <td>g6ztx7m</td>\n",
       "      <td>t1_g6x1fn2</td>\n",
       "      <td>t3_j11x3y</td>\n",
       "      <td>I just read this and kinda freaked out because...</td>\n",
       "      <td>1</td>\n",
       "      <td>/r/Ex_Foster/comments/j11x3y/anyone_else_misse...</td>\n",
       "    </tr>\n",
       "    <tr>\n",
       "      <th>2</th>\n",
       "      <td>threadshredder</td>\n",
       "      <td>2020-09-28 20:08:02</td>\n",
       "      <td>g6zn31t</td>\n",
       "      <td>t1_g5dkptf</td>\n",
       "      <td>t3_ippo9j</td>\n",
       "      <td>I wouldn’t stress the weed too much but defini...</td>\n",
       "      <td>1</td>\n",
       "      <td>/r/Ex_Foster/comments/ippo9j/i_am_a_doster_par...</td>\n",
       "    </tr>\n",
       "    <tr>\n",
       "      <th>3</th>\n",
       "      <td>RapidRadRunner</td>\n",
       "      <td>2020-09-28 12:29:00</td>\n",
       "      <td>g6y1wri</td>\n",
       "      <td>t1_g6x1fn2</td>\n",
       "      <td>t3_j11x3y</td>\n",
       "      <td>I'm so sorry! This is absolutely heartbreaking!</td>\n",
       "      <td>1</td>\n",
       "      <td>/r/Ex_Foster/comments/j11x3y/anyone_else_misse...</td>\n",
       "    </tr>\n",
       "    <tr>\n",
       "      <th>4</th>\n",
       "      <td>SeaCow7829</td>\n",
       "      <td>2020-09-28 02:56:51</td>\n",
       "      <td>g6x1fn2</td>\n",
       "      <td>t1_g6wsmny</td>\n",
       "      <td>t3_j11x3y</td>\n",
       "      <td>I just got to a new placement (from group home...</td>\n",
       "      <td>1</td>\n",
       "      <td>/r/Ex_Foster/comments/j11x3y/anyone_else_misse...</td>\n",
       "    </tr>\n",
       "  </tbody>\n",
       "</table>\n",
       "</div>"
      ],
      "text/plain": [
       "           author  ...                                          permalink\n",
       "0         L2F2020  ...  /r/Ex_Foster/comments/j11x3y/anyone_else_misse...\n",
       "1       iOnlyDo69  ...  /r/Ex_Foster/comments/j11x3y/anyone_else_misse...\n",
       "2  threadshredder  ...  /r/Ex_Foster/comments/ippo9j/i_am_a_doster_par...\n",
       "3  RapidRadRunner  ...  /r/Ex_Foster/comments/j11x3y/anyone_else_misse...\n",
       "4      SeaCow7829  ...  /r/Ex_Foster/comments/j11x3y/anyone_else_misse...\n",
       "\n",
       "[5 rows x 8 columns]"
      ]
     },
     "execution_count": 21,
     "metadata": {
      "tags": []
     },
     "output_type": "execute_result"
    }
   ],
   "source": [
    "df.head()"
   ]
  },
  {
   "cell_type": "markdown",
   "metadata": {
    "id": "uguGkzXHvJSK"
   },
   "source": [
    "Finally, save the aggregated df to json file..."
   ]
  },
  {
   "cell_type": "code",
   "execution_count": null,
   "metadata": {
    "id": "exP5y1pKvHg6"
   },
   "outputs": [],
   "source": [
    "df.to_json('Ex_Foster_Complete.json')"
   ]
  },
  {
   "cell_type": "code",
   "execution_count": null,
   "metadata": {
    "id": "nZbnOA2i6c8j"
   },
   "outputs": [],
   "source": [
    "#In order to plot the data in DataFrames, we first have to include the requisite python libraries.\n",
    "import matplotlib.pyplot as plt\n",
    "#Then let's set the size of the visualizations\n",
    "plt.rcParams.update({'font.size': 20, 'figure.figsize': (10, 8)}) # set font and plot size to be larger"
   ]
  },
  {
   "cell_type": "code",
   "execution_count": null,
   "metadata": {
    "colab": {
     "base_uri": "https://localhost:8080/",
     "height": 517
    },
    "id": "Z9DrbbJ75Wkv",
    "outputId": "9b89cfe3-64a8-4f3e-e315-23d1f62cbc48"
   },
   "outputs": [
    {
     "data": {
      "image/png": "[encoded data removed]",
      "text/plain": [
       "<Figure size 720x576 with 1 Axes>"
      ]
     },
     "metadata": {
      "needs_background": "light",
      "tags": []
     },
     "output_type": "display_data"
    }
   ],
   "source": [
    "df['score'].plot(kind='hist',title='Score Distribution', bins=5);"
   ]
  },
  {
   "cell_type": "code",
   "execution_count": null,
   "metadata": {
    "colab": {
     "base_uri": "https://localhost:8080/"
    },
    "id": "gxfdxNmT6FBH",
    "outputId": "f924463b-6eda-4c07-f36a-197b51196c73"
   },
   "outputs": [
    {
     "data": {
      "text/plain": [
       "count    4823.000000\n",
       "mean        1.501555\n",
       "std         1.451107\n",
       "min        -5.000000\n",
       "25%         1.000000\n",
       "50%         1.000000\n",
       "75%         1.000000\n",
       "max        15.000000\n",
       "Name: score, dtype: float64"
      ]
     },
     "execution_count": 21,
     "metadata": {
      "tags": []
     },
     "output_type": "execute_result"
    }
   ],
   "source": [
    "#Now let's try describe\n",
    "#Again....check the Introduction to Pandas \n",
    "df['score'].describe()"
   ]
  },
  {
   "cell_type": "code",
   "execution_count": null,
   "metadata": {
    "colab": {
     "base_uri": "https://localhost:8080/",
     "height": 509
    },
    "id": "OPTsPM8Z6RnR",
    "outputId": "51430459-362d-4bb9-a90e-eede5197748a"
   },
   "outputs": [
    {
     "data": {
      "text/plain": [
       "<matplotlib.axes._subplots.AxesSubplot at 0x7fcf4b6bf780>"
      ]
     },
     "execution_count": 22,
     "metadata": {
      "tags": []
     },
     "output_type": "execute_result"
    },
    {
     "data": {
      "image/png": "[encoded data removed]",
      "text/plain": [
       "<Figure size 720x576 with 1 Axes>"
      ]
     },
     "metadata": {
      "needs_background": "light",
      "tags": []
     },
     "output_type": "display_data"
    }
   ],
   "source": [
    "df['score'].plot(kind='box')"
   ]
  },
  {
   "cell_type": "markdown",
   "metadata": {
    "id": "EUs2VH-n6jMM"
   },
   "source": [
    "So, there are comments represent as an outlier (let's say >12). Let's sample what some of these comments are talking about...\n"
   ]
  },
  {
   "cell_type": "code",
   "execution_count": null,
   "metadata": {
    "colab": {
     "base_uri": "https://localhost:8080/"
    },
    "id": "DR1EaF3h6_Tl",
    "outputId": "b42bd5a7-216c-481d-c772-fd716afeb1a7"
   },
   "outputs": [
    {
     "data": {
      "text/plain": [
       "1247    I am a parent and so I'll delete this and just...\n",
       "2014    I’m not sure if this is controversial or not, ...\n",
       "2475    The most impactful thing my foster mom did was...\n",
       "2653    You weren’t worthless then and you aren’t wort...\n",
       "3518    I \"bid\" my time at 16 and a half for over a ye...\n",
       "3527    She has been there a month - I think it’s too ...\n",
       "3583    Not a foster youth but case manager. I have a ...\n",
       "3584    Look heavily into your university’s resources....\n",
       "4354    That isn't even the worst of it. They actually...\n",
       "Name: body, dtype: object"
      ]
     },
     "execution_count": 23,
     "metadata": {
      "tags": []
     },
     "output_type": "execute_result"
    }
   ],
   "source": [
    "df[df['score']>12].body"
   ]
  },
  {
   "cell_type": "markdown",
   "metadata": {
    "id": "RnrdgUhT7G8P"
   },
   "source": [
    "woops...forgot that I need to show the complete text"
   ]
  },
  {
   "cell_type": "code",
   "execution_count": null,
   "metadata": {
    "colab": {
     "base_uri": "https://localhost:8080/"
    },
    "id": "S3CHoK5y7Ev1",
    "outputId": "5b63511d-9d3d-43f8-df6a-740e933b7855"
   },
   "outputs": [
    {
     "name": "stderr",
     "output_type": "stream",
     "text": [
      "/usr/local/lib/python3.6/dist-packages/ipykernel_launcher.py:1: FutureWarning: Passing a negative integer is deprecated in version 1.0 and will not be supported in future version. Instead, use None to not limit the column width.\n",
      "  \"\"\"Entry point for launching an IPython kernel.\n"
     ]
    }
   ],
   "source": [
    "pd.set_option('display.max_colwidth', -1)"
   ]
  },
  {
   "cell_type": "code",
   "execution_count": null,
   "metadata": {
    "colab": {
     "base_uri": "https://localhost:8080/"
    },
    "id": "c88pTabx7VQH",
    "outputId": "4dcf7724-a48a-44ed-fe66-a2f15fe1cafa"
   },
   "outputs": [
    {
     "data": {
      "text/plain": [
       "0       Thank you for having the courage to tell us about this. I am truly sorry, and I hope that she always stays with you in your heart. You have already been through a lot in your life, and to lose your companion just makes it all the harder for you to cope with it all. We all love you and your dog here, and we wish you the best in processing your loss. \\n\\nIf you ever need someone to talk to, please feel free to message me- I'm more online than I should be nowadays, so I definitely won't miss your message.\\n\\n&lt;3                                                                                                                                                                                              \n",
       "1       I am so sorry for your loss. I am so glad the two of you got to love each other for 13 years. It hurts because you loved her so much but the ability to love so deeply also means you are strong. Take it one day at a time.                                                                                                                                                                                                                                                                                                                                                                                                                                                                                                      \n",
       "2       Im so sorry 😭                                                                                                                                                                                                                                                                                                                                                                                                                                                                                                                                                                                                                                                                                                                     \n",
       "3       I'm so sorry. The loss of a family member can be hard, but when it's someone as special as this, it's exponentially more painful. If it helps rather than hurts you to think about your pup right now, would you like to tell us about your favorite memories with her?                                                                                                                                                                                                                                                                                                                                                                                                                                                           \n",
       "4       It sounds you've got a lot of stuff going on. And you're not going to be able to mtf transition without a therapist approval, especially with your opiate/ drug use. So you do you. But defensiveness is also a coping mechanism, And it doesn't help in the long run. In your post you stated you wish you could just ask for a hand. But the second hand pops out you slap it away. You came to reddit for advice, the advice is to see a therapist and you said no. So you do you. I wish you the best in the long run, it's been a very difficult year. I have a lot of patients in the same position, depression, anxiety, drug use, mental issues. It's not easy year. But don't decline every inch of help you are offered.\n",
       "                                                                                                                                                                                                                                                                                                                                                                       ...                                                                                                                                                                                                                                                                                                                                                                \n",
       "4818    In the UK the standard term is care leaver                                                                                                                                                                                                                                                                                                                                                                                                                                                                                                                                                                                                                                                                                        \n",
       "4819    I usually just say I was in state care or CPS/DCS care. I was in 1 foster home but mostly grouphomes.                                                                                                                                                                                                                                                                                                                                                                                                                                                                                                                                                                                                                             \n",
       "4820    Grew up in foster care.                                                                                                                                                                                                                                                                                                                                                                                                                                                                                                                                                                                                                                                                                                           \n",
       "4821    Former child in care                                                                                                                                                                                                                                                                                                                                                                                                                                                                                                                                                                                                                                                                                                              \n",
       "4822    Thanks lol                                                                                                                                                                                                                                                                                                                                                                                                                                                                                                                                                                                                                                                                                                                        \n",
       "Name: body, Length: 4603, dtype: object"
      ]
     },
     "execution_count": 25,
     "metadata": {
      "tags": []
     },
     "output_type": "execute_result"
    }
   ],
   "source": [
    "df[df['score']<5].body"
   ]
  },
  {
   "cell_type": "code",
   "execution_count": null,
   "metadata": {
    "id": "3jaaxknv97P3"
   },
   "outputs": [],
   "source": [
    "#testing on a different Reddit dataframe which I included before\n",
    "#this is the r/wallstreetbets subreddit\n",
    "#I collected this DataFrame before, and will be reading it now\n",
    "wallstreetbets = pd.read_json('wallstreetsub.json')\n",
    "#this file can be found here: https://drive.google.com/file/d/1a4-A6sLEzrDeIw0m8fMQT7mOtr7oAXq6/view?usp=sharing"
   ]
  },
  {
   "cell_type": "code",
   "execution_count": null,
   "metadata": {
    "colab": {
     "base_uri": "https://localhost:8080/",
     "height": 517
    },
    "id": "vceH4XQfCh8I",
    "outputId": "ebba06dd-e01d-4efb-ce04-32e7b0e878e4"
   },
   "outputs": [
    {
     "data": {
      "image/png": "[encoded data removed]",
      "text/plain": [
       "<Figure size 720x576 with 1 Axes>"
      ]
     },
     "metadata": {
      "needs_background": "light",
      "tags": []
     },
     "output_type": "display_data"
    }
   ],
   "source": [
    "wallstreetbets['score'].plot(kind='hist',title='Score Distribution', bins=50);"
   ]
  },
  {
   "cell_type": "code",
   "execution_count": null,
   "metadata": {
    "colab": {
     "base_uri": "https://localhost:8080/"
    },
    "id": "GrsJU4BiCoUo",
    "outputId": "eb357104-49b9-48f3-8c35-d0082ad09fee"
   },
   "outputs": [
    {
     "data": {
      "text/plain": [
       "count    636.000000\n",
       "mean     7.982704  \n",
       "std      26.384283 \n",
       "min     -49.000000 \n",
       "25%      1.000000  \n",
       "50%      2.500000  \n",
       "75%      6.000000  \n",
       "max      321.000000\n",
       "Name: score, dtype: float64"
      ]
     },
     "execution_count": 28,
     "metadata": {
      "tags": []
     },
     "output_type": "execute_result"
    }
   ],
   "source": [
    "#Now let's try describe\n",
    "#Again....check the Introduction to Pandas \n",
    "wallstreetbets['score'].describe()"
   ]
  },
  {
   "cell_type": "code",
   "execution_count": null,
   "metadata": {
    "colab": {
     "base_uri": "https://localhost:8080/",
     "height": 509
    },
    "id": "a-FkrYEsCybI",
    "outputId": "ccd9524c-6bc3-4094-c07f-865c6e810fa1"
   },
   "outputs": [
    {
     "data": {
      "text/plain": [
       "<matplotlib.axes._subplots.AxesSubplot at 0x7fcf4af15208>"
      ]
     },
     "execution_count": 29,
     "metadata": {
      "tags": []
     },
     "output_type": "execute_result"
    },
    {
     "data": {
      "image/png": "[encoded data removed]",
      "text/plain": [
       "<Figure size 720x576 with 1 Axes>"
      ]
     },
     "metadata": {
      "needs_background": "light",
      "tags": []
     },
     "output_type": "display_data"
    }
   ],
   "source": [
    "wallstreetbets['score'].plot(kind='box')"
   ]
  },
  {
   "cell_type": "markdown",
   "metadata": {
    "id": "PdgWv2eOC6Zw"
   },
   "source": [
    "So, there are comments represent as an outlier (let's say >300). Let's sample what some of these comments are talking about...\n"
   ]
  },
  {
   "cell_type": "code",
   "execution_count": null,
   "metadata": {
    "colab": {
     "base_uri": "https://localhost:8080/"
    },
    "id": "KJ8MjVY7C0Iv",
    "outputId": "f5917b8c-8db0-4e72-c7ff-e350ff3b1c73"
   },
   "outputs": [
    {
     "data": {
      "text/plain": [
       "305    should I sell my 15 shares of TSLA - to go all in on GME ??!!!!??!\n",
       "Name: body, dtype: object"
      ]
     },
     "execution_count": 30,
     "metadata": {
      "tags": []
     },
     "output_type": "execute_result"
    }
   ],
   "source": [
    "wallstreetbets[wallstreetbets['score']>300].body"
   ]
  },
  {
   "cell_type": "code",
   "execution_count": null,
   "metadata": {
    "colab": {
     "base_uri": "https://localhost:8080/"
    },
    "id": "HsSN2-a8DCNc",
    "outputId": "086ca8f8-24b9-43a1-c4b9-9a3696b7f6eb"
   },
   "outputs": [
    {
     "data": {
      "text/plain": [
       "0      How can retards manipulate the stock market?                                                                                                                                                                                                                                     \n",
       "1      Maybe if her boyfriend is gay and she wants to look like a penis.                                                                                                                                                                                                                \n",
       "2      Nein                                                                                                                                                                                                                                                                             \n",
       "3      It might go up this year considering they were the only  tech company on the planet to lose value last year. Garbage                                                                                                                                                             \n",
       "4      Till 100k minimum wtf                                                                                                                                                                                                                                                            \n",
       "               ...                                                                                                                                                                                                                                                                      \n",
       "631    xhamster.com                                                                                                                                                                                                                                                                     \n",
       "632    It went down for an hour                                                                                                                                                                                                                                                         \n",
       "633    The good news is my night shift is almost over and wife told me to hurry home cuz she wants me to make sex to her                                                                                                                                                                \n",
       "634    The shares are already loaned out. I can sell my shares to you, and if Citron had borrowed them from me, then after they close their position, they return the shares to you, the new owner. There's no more float. All the shares that are available for borrowing are borrowed.\n",
       "635    That guy is also shilling this to r/investing. Fuck that and fuck him                                                                                                                                                                                                            \n",
       "Name: body, Length: 618, dtype: object"
      ]
     },
     "execution_count": 31,
     "metadata": {
      "tags": []
     },
     "output_type": "execute_result"
    }
   ],
   "source": [
    "#now let's check the lower scores\n",
    "wallstreetbets[wallstreetbets['score']<50].body"
   ]
  }
 ],
 "metadata": {
  "colab": {
   "authorship_tag": "ABX9TyPvZmRwWx0/qJfAn9QhYiRj",
   "collapsed_sections": [],
   "include_colab_link": true,
   "name": "API_Example_Reddit.ipynb",
   "provenance": [],
   "toc_visible": true
  },
  "kernelspec": {
   "display_name": "Python 3 (ipykernel)",
   "language": "python",
   "name": "python3"
  },
  "language_info": {
   "codemirror_mode": {
    "name": "ipython",
    "version": 3
   },
   "file_extension": ".py",
   "mimetype": "text/x-python",
   "name": "python",
   "nbconvert_exporter": "python",
   "pygments_lexer": "ipython3",
   "version": "3.10.9"
  }
 },
 "nbformat": 4,
 "nbformat_minor": 1
}
